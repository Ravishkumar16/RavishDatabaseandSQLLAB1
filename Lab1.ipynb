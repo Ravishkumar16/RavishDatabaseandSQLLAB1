{
 "cells": [
  {
   "cell_type": "code",
   "execution_count": 3,
   "id": "e62993b2",
   "metadata": {},
   "outputs": [],
   "source": [
    "import mysql.connector\n",
    "import pandas as pd"
   ]
  },
  {
   "cell_type": "code",
   "execution_count": 4,
   "id": "302c0a97",
   "metadata": {},
   "outputs": [
    {
     "name": "stdout",
     "output_type": "stream",
     "text": [
      "<mysql.connector.connection_cext.CMySQLConnection object at 0x000002400E3D38B0>\n"
     ]
    }
   ],
   "source": [
    "connection = mysql.connector.connect(host = \"localhost\",\n",
    "                                    user = \"root\",\n",
    "                                    password = \"Anoop@160317\")\n",
    "print (connection)\n",
    "connection.close()"
   ]
  },
  {
   "cell_type": "code",
   "execution_count": 28,
   "id": "0ccb510b",
   "metadata": {},
   "outputs": [],
   "source": [
    "connection = mysql.connector.connect(host = \"localhost\",\n",
    "                                    user = \"root\",\n",
    "                                    password = \"Anoop@160317\"\n",
    "                                    )\n",
    "cursorObject = connection.cursor()\n",
    "cursorObject.execute(\"CREATE DATABASE e_commerce1\")"
   ]
  },
  {
   "cell_type": "code",
   "execution_count": 5,
   "id": "00e35fae",
   "metadata": {},
   "outputs": [],
   "source": [
    "connection = mysql.connector.connect(host = \"localhost\",\n",
    "                                    user = \"root\",\n",
    "                                    password = \"Anoop@160317\",\n",
    "                                     database = \"e_commerce1\"\n",
    "                                    )\n",
    "cursorObject = connection.cursor()"
   ]
  },
  {
   "cell_type": "code",
   "execution_count": 30,
   "id": "d4fa2be8",
   "metadata": {},
   "outputs": [],
   "source": [
    "suppliers =\"\"\"create table suppliers(SUPP_ID int primary key,SUUP_NAME varchar(50),SUPP_CITY varchar(50),SUPP_PHONE varchar(15))\"\"\"\n",
    "cursorObject.execute(suppliers)"
   ]
  },
  {
   "cell_type": "code",
   "execution_count": 31,
   "id": "41ad85f9",
   "metadata": {},
   "outputs": [],
   "source": [
    "customer =\"\"\"create table customer(CUS_ID int not null,CUS_NAME varchar(20) null default null,CUS_PHONE varchar(10),\n",
    "CUS_CITY varchar(30),CUS_GENDER char,primary key(CUS_ID))\"\"\"\n",
    "cursorObject.execute(customer)"
   ]
  },
  {
   "cell_type": "code",
   "execution_count": 32,
   "id": "e18fa916",
   "metadata": {},
   "outputs": [],
   "source": [
    "category=\"\"\"create table category(CAT_ID int not null,CAT_NAME varchar(20) null default null,primary key(CAT_ID))\"\"\"\n",
    "cursorObject.execute(category)"
   ]
  },
  {
   "cell_type": "code",
   "execution_count": 33,
   "id": "c34dc1e8",
   "metadata": {
    "scrolled": true
   },
   "outputs": [],
   "source": [
    "product = \"\"\"create table product(PRO_ID int not null,PRO_NAME varchar(20) null default null,PRO_DESC varchar(60) null default null,CAT_ID int not null,primary key(PRO_ID),foreign key(CAT_ID) references category(CAT_ID))\"\"\"\n",
    "cursorObject.execute(product)"
   ]
  },
  {
   "cell_type": "code",
   "execution_count": 34,
   "id": "6206e8bc",
   "metadata": {},
   "outputs": [],
   "source": [
    "product_details= \"\"\"create table product_details(PROD_ID int not null,PRO_ID int not null,SUPP_ID int not null,PROD_PRICE int not null,primary key(PROD_ID),foreign key(PRO_ID) references product(PRO_ID),foreign key(SUPP_ID) references suppliers(SUPP_ID))\"\"\"\n",
    "cursorObject.execute(product_details)"
   ]
  },
  {
   "cell_type": "code",
   "execution_count": 35,
   "id": "fe1bc200",
   "metadata": {},
   "outputs": [],
   "source": [
    "orders= \"\"\"create table orders(ORD_ID int not null,ORD_AMOUNT int not null,ORD_DATE date,CUS_ID int not null,PROD_ID int not null, primary key(ORD_ID),foreign key(CUS_ID)references customer(CUS_ID), foreign key(PROD_ID) references product_details(PROD_ID))\"\"\"\n",
    "cursorObject.execute(orders)"
   ]
  },
  {
   "cell_type": "code",
   "execution_count": 12,
   "id": "d28b34c5",
   "metadata": {},
   "outputs": [],
   "source": [
    "rating =\"\"\"create table rating(RAT_ID int not null,CUS_ID int not null,SUPP_ID int not null,RAT_RATSTARS int not null,primary key(RAT_ID), foreign key(SUPP_ID)references suppliers(SUPP_ID),foreign key(CUS_ID)references customer(CUS_ID))\"\"\"\n",
    "cursorObject.execute(rating)"
   ]
  },
  {
   "cell_type": "code",
   "execution_count": 38,
   "id": "03885e0f",
   "metadata": {
    "scrolled": true
   },
   "outputs": [],
   "source": [
    "insert_query=\"insert into suppliers(SUPP_ID ,SUUP_NAME,SUPP_CITY ,SUPP_PHONE ) values (%s,%s,%s,%s)\"\n",
    "val =[(1,\"Rajesh Retails\",\"Delhi\",\"1234567890\"),\n",
    "      (2,\"Appario Ltd.\",\"Mumbai\",\"2589631470\"),\n",
    "      (3,\"Knome products\",\"Bangalore\",\"9785462315\"),\n",
    "      (4,\"Bansal Retails\", \"Kochi\", \"8975463285\"),\n",
    "      (5,\"Mittal Ltd.\",\" Lucknow\",\"7898456532\") ]\n",
    "cursorObject.executemany(insert_query,val)\n",
    "connection.commit()"
   ]
  },
  {
   "cell_type": "code",
   "execution_count": 6,
   "id": "783314c9",
   "metadata": {},
   "outputs": [],
   "source": [
    "insert_query=\"insert into customer(CUS_ID,CUS_NAME,CUS_PHONE,CUS_CITY,CUS_GENDER) values (%s,%s,%s,%s,%s)\"\n",
    "val = [(1,\"AAKASH\",\"9999999999\",\"DELHI\",\"M \"),\n",
    "        (2,\"AMAN\",\"9785463215\",\"NOIDA\",\"M\"),\n",
    "        (3,\"NEHA\",\"9999999998\",\"MUMBAI\",\"F\"),\n",
    "        (4,\"MEGHA\",\"9994562399\",\"KOLKATA\",\"F\"),\n",
    "        (5,\"PULKIT\",\"7895999999\",\"LUCKNOW\",\"M\")]\n",
    "cursorObject.executemany(insert_query,val)\n",
    "connection.commit()"
   ]
  },
  {
   "cell_type": "code",
   "execution_count": 7,
   "id": "b79d1cb1",
   "metadata": {},
   "outputs": [],
   "source": [
    "insert_query = \"insert into category(CAT_ID,CAT_NAME) values (%s,%s)\"\n",
    "val= [(1,\"BOOKS\"),\n",
    "      (2,\"GAMES\"),\n",
    "      (3,\"GROCERIES\"),\n",
    "      (4,\"ELECTRONICS\"),\n",
    "      (5,\"CLOTHES\")]\n",
    "cursorObject.executemany(insert_query,val)\n",
    "connection.commit()"
   ]
  },
  {
   "cell_type": "code",
   "execution_count": 8,
   "id": "c26c07d6",
   "metadata": {},
   "outputs": [],
   "source": [
    "insert_query = \"insert into product(PRO_ID,PRO_NAME,PRO_DESC,CAT_ID ) values (%s,%s,%s,%s)\"\n",
    "val = [(1,\"GTA V\",\"DFJDJFDJFDJFDJFJF\",2),\n",
    "        (2,\"TSHIRT\",\"DFDFJDFJDKFD\",5), \n",
    "        (3,\"ROG LAPTOP\",\"DFNTTNTNTERND\",4),\n",
    "        (4,\"OATS\",\"REURENTBTOTH\",3),\n",
    "        (5,\"HARRY POTTER\",\"NBEMCTHTJTH\",1)]\n",
    "cursorObject.executemany(insert_query,val)\n",
    "connection.commit()"
   ]
  },
  {
   "cell_type": "code",
   "execution_count": 9,
   "id": "f027c026",
   "metadata": {},
   "outputs": [],
   "source": [
    "insert_query = \"insert into product_details(PROD_ID,PRO_ID,SUPP_ID,PROD_PRICE) values(%s,%s,%s,%s)\"\n",
    "val =[(1,1,2,1500),\n",
    "        (2,3,5,30000),\n",
    "        (3,5,1,3000),\n",
    "        (4,2,3,2500 ),\n",
    "        (5,4,1,1000)]\n",
    "cursorObject.executemany(insert_query,val)\n",
    "connection.commit()"
   ]
  },
  {
   "cell_type": "code",
   "execution_count": 11,
   "id": "2d5524c1",
   "metadata": {},
   "outputs": [],
   "source": [
    "insert_query = \"insert into orders(ORD_ID,ORD_AMOUNT,ORD_DATE,CUS_ID,PROD_ID) values (%s,%s,%s,%s,%s)\"\n",
    "val = [(20,1500,\"2021-10-12\",3,5),\n",
    "        (25,30500,\"2021-09-16\",5,2),\n",
    "        (26,2000,\"2021-10-05\",1,1),\n",
    "        (30,3500,\"2021-08-16\",4,3),\n",
    "        (50,2000,\"2021-10-06\",2,1)]\n",
    "cursorObject.executemany(insert_query,val)\n",
    "connection.commit()"
   ]
  },
  {
   "cell_type": "code",
   "execution_count": 13,
   "id": "527f7f92",
   "metadata": {},
   "outputs": [],
   "source": [
    "insert_query = \"insert into rating(RAT_ID,CUS_ID,SUPP_ID,RAT_RATSTARS) values (%s,%s,%s,%s)\"\n",
    "val = [(1,2,2,4),\n",
    "       (2,3,4,3),\n",
    "       (3,5,1,5),\n",
    "       (4,1,3,2),\n",
    "       (5,4,5,4)]\n",
    "cursorObject.executemany(insert_query,val)\n",
    "connection.commit()"
   ]
  },
  {
   "cell_type": "code",
   "execution_count": null,
   "id": "70527a37",
   "metadata": {},
   "outputs": [],
   "source": [
    "### Q3) Display the number of the customer group by their genders who have placed any order of amount greater than or equal to Rs.3000."
   ]
  },
  {
   "cell_type": "code",
   "execution_count": 8,
   "id": "c91bc8a5",
   "metadata": {},
   "outputs": [
    {
     "data": {
      "text/html": [
       "<div>\n",
       "<style scoped>\n",
       "    .dataframe tbody tr th:only-of-type {\n",
       "        vertical-align: middle;\n",
       "    }\n",
       "\n",
       "    .dataframe tbody tr th {\n",
       "        vertical-align: top;\n",
       "    }\n",
       "\n",
       "    .dataframe thead th {\n",
       "        text-align: right;\n",
       "    }\n",
       "</style>\n",
       "<table border=\"1\" class=\"dataframe\">\n",
       "  <thead>\n",
       "    <tr style=\"text-align: right;\">\n",
       "      <th></th>\n",
       "      <th>CUS_GENDER</th>\n",
       "      <th>COUNT</th>\n",
       "    </tr>\n",
       "  </thead>\n",
       "  <tbody>\n",
       "    <tr>\n",
       "      <th>0</th>\n",
       "      <td>M</td>\n",
       "      <td>1</td>\n",
       "    </tr>\n",
       "    <tr>\n",
       "      <th>1</th>\n",
       "      <td>F</td>\n",
       "      <td>1</td>\n",
       "    </tr>\n",
       "  </tbody>\n",
       "</table>\n",
       "</div>"
      ],
      "text/plain": [
       "  CUS_GENDER  COUNT\n",
       "0          M      1\n",
       "1          F      1"
      ]
     },
     "execution_count": 8,
     "metadata": {},
     "output_type": "execute_result"
    }
   ],
   "source": [
    "Query3 = \"\"\"select customer.CUS_GENDER,count(customer.CUS_GENDER) as count from\n",
    "            customer inner join `orders` on customer.CUS_ID=`orders`.CUS_ID \n",
    "            where `orders`.ORD_AMOUNT>=3000 group by customer.CUS_GENDER;\"\"\"\n",
    "cursorObject.execute(Query3)\n",
    "output = cursorObject.fetchall()\n",
    "\n",
    "output_df = pd.DataFrame(output,columns = ['CUS_GENDER','COUNT'])\n",
    "output_df\n",
    "\n"
   ]
  },
  {
   "cell_type": "code",
   "execution_count": null,
   "id": "3f9257ec",
   "metadata": {},
   "outputs": [],
   "source": [
    "### Q4) Display all the order along with product name ordered by a customer having Customer_Id=2;"
   ]
  },
  {
   "cell_type": "code",
   "execution_count": 12,
   "id": "ac96a22f",
   "metadata": {},
   "outputs": [
    {
     "data": {
      "text/html": [
       "<div>\n",
       "<style scoped>\n",
       "    .dataframe tbody tr th:only-of-type {\n",
       "        vertical-align: middle;\n",
       "    }\n",
       "\n",
       "    .dataframe tbody tr th {\n",
       "        vertical-align: top;\n",
       "    }\n",
       "\n",
       "    .dataframe thead th {\n",
       "        text-align: right;\n",
       "    }\n",
       "</style>\n",
       "<table border=\"1\" class=\"dataframe\">\n",
       "  <thead>\n",
       "    <tr style=\"text-align: right;\">\n",
       "      <th></th>\n",
       "      <th>ORD_ID</th>\n",
       "      <th>ORD_AMOUNT</th>\n",
       "      <th>ORD_DATE</th>\n",
       "      <th>CUS_ID</th>\n",
       "      <th>PROD_ID</th>\n",
       "      <th>PRO_NAME</th>\n",
       "    </tr>\n",
       "  </thead>\n",
       "  <tbody>\n",
       "    <tr>\n",
       "      <th>0</th>\n",
       "      <td>50</td>\n",
       "      <td>2000</td>\n",
       "      <td>2021-10-06</td>\n",
       "      <td>2</td>\n",
       "      <td>1</td>\n",
       "      <td>GTA V</td>\n",
       "    </tr>\n",
       "  </tbody>\n",
       "</table>\n",
       "</div>"
      ],
      "text/plain": [
       "   ORD_ID  ORD_AMOUNT    ORD_DATE  CUS_ID  PROD_ID PRO_NAME\n",
       "0      50        2000  2021-10-06       2        1    GTA V"
      ]
     },
     "execution_count": 12,
     "metadata": {},
     "output_type": "execute_result"
    }
   ],
   "source": [
    "Query4=\"\"\"select `orders`.*,product.PRO_NAME from `orders`,product_details,product\n",
    "        where `orders`.CUS_ID = 2 and `orders`.PROD_ID = product_details.PROD_ID\n",
    "        and product_details.PRO_ID=product.PRO_ID\"\"\"\n",
    "cursorObject.execute(Query4)\n",
    "output = cursorObject.fetchall()\n",
    "\n",
    "output_df = pd.DataFrame(output,columns = ['ORD_ID','ORD_AMOUNT','ORD_DATE',\n",
    "                                           'CUS_ID','PROD_ID','PRO_NAME'])\n",
    "output_df\n"
   ]
  },
  {
   "cell_type": "code",
   "execution_count": null,
   "id": "d760cb24",
   "metadata": {},
   "outputs": [],
   "source": [
    "### Q5) Display the Supplier details who can supply more than one product."
   ]
  },
  {
   "cell_type": "code",
   "execution_count": 17,
   "id": "e3aeda0a",
   "metadata": {},
   "outputs": [
    {
     "data": {
      "text/html": [
       "<div>\n",
       "<style scoped>\n",
       "    .dataframe tbody tr th:only-of-type {\n",
       "        vertical-align: middle;\n",
       "    }\n",
       "\n",
       "    .dataframe tbody tr th {\n",
       "        vertical-align: top;\n",
       "    }\n",
       "\n",
       "    .dataframe thead th {\n",
       "        text-align: right;\n",
       "    }\n",
       "</style>\n",
       "<table border=\"1\" class=\"dataframe\">\n",
       "  <thead>\n",
       "    <tr style=\"text-align: right;\">\n",
       "      <th></th>\n",
       "      <th>SUPP_ID</th>\n",
       "      <th>SUUP_NAME</th>\n",
       "      <th>SUPP_CITY</th>\n",
       "      <th>SUPP_PHONE</th>\n",
       "    </tr>\n",
       "  </thead>\n",
       "  <tbody>\n",
       "    <tr>\n",
       "      <th>0</th>\n",
       "      <td>1</td>\n",
       "      <td>Rajesh Retails</td>\n",
       "      <td>Delhi</td>\n",
       "      <td>1234567890</td>\n",
       "    </tr>\n",
       "  </tbody>\n",
       "</table>\n",
       "</div>"
      ],
      "text/plain": [
       "   SUPP_ID       SUUP_NAME SUPP_CITY  SUPP_PHONE\n",
       "0        1  Rajesh Retails     Delhi  1234567890"
      ]
     },
     "execution_count": 17,
     "metadata": {},
     "output_type": "execute_result"
    }
   ],
   "source": [
    "Query5=\"\"\"select suppliers.* from suppliers,product_details where suppliers.SUPP_ID\n",
    "        in(select product_details.SUPP_ID from product_details group by product_details.SUPP_ID\n",
    "        having count(product_details.SUPP_ID)>1) group by suppliers.SUPP_ID;\"\"\"\n",
    "cursorObject.execute(Query5)\n",
    "output = cursorObject.fetchall()\n",
    "\n",
    "output_df = pd.DataFrame(output,columns = ['SUPP_ID','SUUP_NAME','SUPP_CITY',\n",
    "                                           'SUPP_PHONE'])\n",
    "output_df\n"
   ]
  },
  {
   "cell_type": "code",
   "execution_count": null,
   "id": "6fef6601",
   "metadata": {},
   "outputs": [],
   "source": [
    "### Q6) Find the category of the product whose order amount is minimum."
   ]
  },
  {
   "cell_type": "code",
   "execution_count": 16,
   "id": "fbe72f08",
   "metadata": {},
   "outputs": [
    {
     "data": {
      "text/html": [
       "<div>\n",
       "<style scoped>\n",
       "    .dataframe tbody tr th:only-of-type {\n",
       "        vertical-align: middle;\n",
       "    }\n",
       "\n",
       "    .dataframe tbody tr th {\n",
       "        vertical-align: top;\n",
       "    }\n",
       "\n",
       "    .dataframe thead th {\n",
       "        text-align: right;\n",
       "    }\n",
       "</style>\n",
       "<table border=\"1\" class=\"dataframe\">\n",
       "  <thead>\n",
       "    <tr style=\"text-align: right;\">\n",
       "      <th></th>\n",
       "      <th>CAT_ID</th>\n",
       "      <th>CAT_NAME</th>\n",
       "    </tr>\n",
       "  </thead>\n",
       "  <tbody>\n",
       "    <tr>\n",
       "      <th>0</th>\n",
       "      <td>3</td>\n",
       "      <td>GROCERIES</td>\n",
       "    </tr>\n",
       "  </tbody>\n",
       "</table>\n",
       "</div>"
      ],
      "text/plain": [
       "   CAT_ID   CAT_NAME\n",
       "0       3  GROCERIES"
      ]
     },
     "execution_count": 16,
     "metadata": {},
     "output_type": "execute_result"
    }
   ],
   "source": [
    "Query6 = \"\"\"select category.* from `orders` inner join product_details on\n",
    "        `orders`.PROD_ID = product_details.PROD_ID inner join product on \n",
    "        product.PRO_ID = product_details.PRO_ID inner join category on \n",
    "        category.CAT_ID = product.CAT_ID having min(`orders`.ORD_AMOUNT); \"\"\"\n",
    "cursorObject.execute(Query6)\n",
    "output = cursorObject.fetchall()\n",
    "\n",
    "output_df = pd.DataFrame(output,columns = ['CAT_ID','CAT_NAME'])\n",
    "output_df"
   ]
  },
  {
   "cell_type": "code",
   "execution_count": null,
   "id": "aac8a875",
   "metadata": {},
   "outputs": [],
   "source": [
    "### Q7) Display the Id and Name of the Product ordered after “2021-10-05”."
   ]
  },
  {
   "cell_type": "code",
   "execution_count": 19,
   "id": "6aa18f79",
   "metadata": {},
   "outputs": [
    {
     "data": {
      "text/html": [
       "<div>\n",
       "<style scoped>\n",
       "    .dataframe tbody tr th:only-of-type {\n",
       "        vertical-align: middle;\n",
       "    }\n",
       "\n",
       "    .dataframe tbody tr th {\n",
       "        vertical-align: top;\n",
       "    }\n",
       "\n",
       "    .dataframe thead th {\n",
       "        text-align: right;\n",
       "    }\n",
       "</style>\n",
       "<table border=\"1\" class=\"dataframe\">\n",
       "  <thead>\n",
       "    <tr style=\"text-align: right;\">\n",
       "      <th></th>\n",
       "      <th>PRO_ID</th>\n",
       "      <th>PRO_NAME</th>\n",
       "    </tr>\n",
       "  </thead>\n",
       "  <tbody>\n",
       "    <tr>\n",
       "      <th>0</th>\n",
       "      <td>4</td>\n",
       "      <td>OATS</td>\n",
       "    </tr>\n",
       "    <tr>\n",
       "      <th>1</th>\n",
       "      <td>1</td>\n",
       "      <td>GTA V</td>\n",
       "    </tr>\n",
       "  </tbody>\n",
       "</table>\n",
       "</div>"
      ],
      "text/plain": [
       "   PRO_ID PRO_NAME\n",
       "0       4     OATS\n",
       "1       1    GTA V"
      ]
     },
     "execution_count": 19,
     "metadata": {},
     "output_type": "execute_result"
    }
   ],
   "source": [
    "Query7 = \"\"\"select product.PRO_ID,product.PRO_NAME from `orders` inner join \n",
    "            product_details on product_details.PROD_ID=`orders`.PROD_ID \n",
    "            inner join product on product.PRO_ID=product_details.PRO_ID\n",
    "            where `orders`.ORD_DATE>\"2021-10-05\";\"\"\"\n",
    "cursorObject.execute(Query7)\n",
    "output = cursorObject.fetchall()\n",
    "\n",
    "output_df = pd.DataFrame(output,columns = ['PRO_ID','PRO_NAME'])\n",
    "output_df"
   ]
  },
  {
   "cell_type": "code",
   "execution_count": null,
   "id": "bd780646",
   "metadata": {},
   "outputs": [],
   "source": [
    "### Q8) Print the top 3 supplier name and id and rating on the basis of their rating along with the customer name who has given the rating."
   ]
  },
  {
   "cell_type": "code",
   "execution_count": 8,
   "id": "59bc482c",
   "metadata": {},
   "outputs": [
    {
     "data": {
      "text/html": [
       "<div>\n",
       "<style scoped>\n",
       "    .dataframe tbody tr th:only-of-type {\n",
       "        vertical-align: middle;\n",
       "    }\n",
       "\n",
       "    .dataframe tbody tr th {\n",
       "        vertical-align: top;\n",
       "    }\n",
       "\n",
       "    .dataframe thead th {\n",
       "        text-align: right;\n",
       "    }\n",
       "</style>\n",
       "<table border=\"1\" class=\"dataframe\">\n",
       "  <thead>\n",
       "    <tr style=\"text-align: right;\">\n",
       "      <th></th>\n",
       "      <th>SUPP_ID</th>\n",
       "      <th>SUPP_NAME</th>\n",
       "      <th>CUS_NAME</th>\n",
       "      <th>RAT_RATSTARS</th>\n",
       "    </tr>\n",
       "  </thead>\n",
       "  <tbody>\n",
       "    <tr>\n",
       "      <th>0</th>\n",
       "      <td>1</td>\n",
       "      <td>Rajesh Retails</td>\n",
       "      <td>PULKIT</td>\n",
       "      <td>5</td>\n",
       "    </tr>\n",
       "    <tr>\n",
       "      <th>1</th>\n",
       "      <td>2</td>\n",
       "      <td>Appario Ltd.</td>\n",
       "      <td>AMAN</td>\n",
       "      <td>4</td>\n",
       "    </tr>\n",
       "    <tr>\n",
       "      <th>2</th>\n",
       "      <td>5</td>\n",
       "      <td>Mittal Ltd.</td>\n",
       "      <td>MEGHA</td>\n",
       "      <td>4</td>\n",
       "    </tr>\n",
       "  </tbody>\n",
       "</table>\n",
       "</div>"
      ],
      "text/plain": [
       "   SUPP_ID       SUPP_NAME CUS_NAME  RAT_RATSTARS\n",
       "0        1  Rajesh Retails   PULKIT             5\n",
       "1        2    Appario Ltd.     AMAN             4\n",
       "2        5     Mittal Ltd.    MEGHA             4"
      ]
     },
     "execution_count": 8,
     "metadata": {},
     "output_type": "execute_result"
    }
   ],
   "source": [
    "Query8 =\"\"\"select suppliers.SUPP_ID,suppliers.SUUP_NAME,customer.CUS_NAME,\n",
    "            rating.RAT_RATSTARS from rating inner join suppliers on \n",
    "            rating.SUPP_ID = suppliers.SUPP_ID inner join customer on \n",
    "            rating.CUS_ID = customer.CUS_ID order by \n",
    "            rating.RAT_RATSTARS desc limit 3\"\"\"\n",
    "cursorObject.execute(Query8)\n",
    "output = cursorObject.fetchall()\n",
    "\n",
    "output_df = pd.DataFrame(output,columns = ['SUPP_ID','SUPP_NAME','CUS_NAME',\n",
    "                                           'RAT_RATSTARS'])\n",
    "output_df"
   ]
  },
  {
   "cell_type": "code",
   "execution_count": null,
   "id": "501828c2",
   "metadata": {},
   "outputs": [],
   "source": [
    "### Q9) Display customer name and gender whose names start or end with character 'A'."
   ]
  },
  {
   "cell_type": "code",
   "execution_count": 13,
   "id": "acacdec2",
   "metadata": {},
   "outputs": [
    {
     "data": {
      "text/html": [
       "<div>\n",
       "<style scoped>\n",
       "    .dataframe tbody tr th:only-of-type {\n",
       "        vertical-align: middle;\n",
       "    }\n",
       "\n",
       "    .dataframe tbody tr th {\n",
       "        vertical-align: top;\n",
       "    }\n",
       "\n",
       "    .dataframe thead th {\n",
       "        text-align: right;\n",
       "    }\n",
       "</style>\n",
       "<table border=\"1\" class=\"dataframe\">\n",
       "  <thead>\n",
       "    <tr style=\"text-align: right;\">\n",
       "      <th></th>\n",
       "      <th>CUS_NAME</th>\n",
       "      <th>CUS_GENDER</th>\n",
       "    </tr>\n",
       "  </thead>\n",
       "  <tbody>\n",
       "    <tr>\n",
       "      <th>0</th>\n",
       "      <td>AAKASH</td>\n",
       "      <td>M</td>\n",
       "    </tr>\n",
       "    <tr>\n",
       "      <th>1</th>\n",
       "      <td>AMAN</td>\n",
       "      <td>M</td>\n",
       "    </tr>\n",
       "    <tr>\n",
       "      <th>2</th>\n",
       "      <td>NEHA</td>\n",
       "      <td>F</td>\n",
       "    </tr>\n",
       "    <tr>\n",
       "      <th>3</th>\n",
       "      <td>MEGHA</td>\n",
       "      <td>F</td>\n",
       "    </tr>\n",
       "  </tbody>\n",
       "</table>\n",
       "</div>"
      ],
      "text/plain": [
       "  CUS_NAME CUS_GENDER\n",
       "0   AAKASH          M\n",
       "1     AMAN          M\n",
       "2     NEHA          F\n",
       "3    MEGHA          F"
      ]
     },
     "execution_count": 13,
     "metadata": {},
     "output_type": "execute_result"
    }
   ],
   "source": [
    "Query9= \"\"\"select customer.CUS_NAME,customer.CUS_GENDER from\n",
    "            customer where customer.CUS_NAME like \"A%\" or customer.CUS_NAME like\n",
    "            \"%A\";\"\"\"\n",
    "cursorObject.execute(Query9)\n",
    "output = cursorObject.fetchall()\n",
    "\n",
    "output_df = pd.DataFrame(output,columns = ['CUS_NAME','CUS_GENDER'])\n",
    "output_df"
   ]
  },
  {
   "cell_type": "code",
   "execution_count": null,
   "id": "22b3df04",
   "metadata": {},
   "outputs": [],
   "source": [
    "### Q10) Display the total order amount of the male customers."
   ]
  },
  {
   "cell_type": "code",
   "execution_count": 15,
   "id": "fec64534",
   "metadata": {},
   "outputs": [
    {
     "data": {
      "text/html": [
       "<div>\n",
       "<style scoped>\n",
       "    .dataframe tbody tr th:only-of-type {\n",
       "        vertical-align: middle;\n",
       "    }\n",
       "\n",
       "    .dataframe tbody tr th {\n",
       "        vertical-align: top;\n",
       "    }\n",
       "\n",
       "    .dataframe thead th {\n",
       "        text-align: right;\n",
       "    }\n",
       "</style>\n",
       "<table border=\"1\" class=\"dataframe\">\n",
       "  <thead>\n",
       "    <tr style=\"text-align: right;\">\n",
       "      <th></th>\n",
       "      <th>AMOUNT</th>\n",
       "    </tr>\n",
       "  </thead>\n",
       "  <tbody>\n",
       "    <tr>\n",
       "      <th>0</th>\n",
       "      <td>34500</td>\n",
       "    </tr>\n",
       "  </tbody>\n",
       "</table>\n",
       "</div>"
      ],
      "text/plain": [
       "  AMOUNT\n",
       "0  34500"
      ]
     },
     "execution_count": 15,
     "metadata": {},
     "output_type": "execute_result"
    }
   ],
   "source": [
    "Query10 =\"\"\"select sum(`orders`.ORD_AMOUNT) as AMOUNT from `orders` inner\n",
    "            join customer on `orders`.CUS_ID = customer.CUS_ID where\n",
    "            customer.CUS_GENDER='M';\"\"\"\n",
    "cursorObject.execute(Query10)\n",
    "output = cursorObject.fetchall()\n",
    "\n",
    "output_df = pd.DataFrame(output,columns = ['AMOUNT'])\n",
    "output_df"
   ]
  },
  {
   "cell_type": "code",
   "execution_count": null,
   "id": "581c8d57",
   "metadata": {},
   "outputs": [],
   "source": [
    "### Q11) Display all the Customers left outer join with  the orders"
   ]
  },
  {
   "cell_type": "code",
   "execution_count": 19,
   "id": "35091737",
   "metadata": {},
   "outputs": [
    {
     "data": {
      "text/html": [
       "<div>\n",
       "<style scoped>\n",
       "    .dataframe tbody tr th:only-of-type {\n",
       "        vertical-align: middle;\n",
       "    }\n",
       "\n",
       "    .dataframe tbody tr th {\n",
       "        vertical-align: top;\n",
       "    }\n",
       "\n",
       "    .dataframe thead th {\n",
       "        text-align: right;\n",
       "    }\n",
       "</style>\n",
       "<table border=\"1\" class=\"dataframe\">\n",
       "  <thead>\n",
       "    <tr style=\"text-align: right;\">\n",
       "      <th></th>\n",
       "      <th>CUS_ID</th>\n",
       "      <th>CUS_NAME</th>\n",
       "      <th>CUS_PHONE</th>\n",
       "      <th>CUS_CITY</th>\n",
       "      <th>CUS_GENDER</th>\n",
       "      <th>ORD_ID</th>\n",
       "      <th>ORD_AMOUNT</th>\n",
       "      <th>ORD_DATE</th>\n",
       "      <th>CUS_ID</th>\n",
       "      <th>PROD_ID</th>\n",
       "    </tr>\n",
       "  </thead>\n",
       "  <tbody>\n",
       "    <tr>\n",
       "      <th>0</th>\n",
       "      <td>1</td>\n",
       "      <td>AAKASH</td>\n",
       "      <td>9999999999</td>\n",
       "      <td>DELHI</td>\n",
       "      <td>M</td>\n",
       "      <td>26</td>\n",
       "      <td>2000</td>\n",
       "      <td>2021-10-05</td>\n",
       "      <td>1</td>\n",
       "      <td>1</td>\n",
       "    </tr>\n",
       "    <tr>\n",
       "      <th>1</th>\n",
       "      <td>2</td>\n",
       "      <td>AMAN</td>\n",
       "      <td>9785463215</td>\n",
       "      <td>NOIDA</td>\n",
       "      <td>M</td>\n",
       "      <td>50</td>\n",
       "      <td>2000</td>\n",
       "      <td>2021-10-06</td>\n",
       "      <td>2</td>\n",
       "      <td>1</td>\n",
       "    </tr>\n",
       "    <tr>\n",
       "      <th>2</th>\n",
       "      <td>3</td>\n",
       "      <td>NEHA</td>\n",
       "      <td>9999999998</td>\n",
       "      <td>MUMBAI</td>\n",
       "      <td>F</td>\n",
       "      <td>20</td>\n",
       "      <td>1500</td>\n",
       "      <td>2021-10-12</td>\n",
       "      <td>3</td>\n",
       "      <td>5</td>\n",
       "    </tr>\n",
       "    <tr>\n",
       "      <th>3</th>\n",
       "      <td>4</td>\n",
       "      <td>MEGHA</td>\n",
       "      <td>9994562399</td>\n",
       "      <td>KOLKATA</td>\n",
       "      <td>F</td>\n",
       "      <td>30</td>\n",
       "      <td>3500</td>\n",
       "      <td>2021-08-16</td>\n",
       "      <td>4</td>\n",
       "      <td>3</td>\n",
       "    </tr>\n",
       "    <tr>\n",
       "      <th>4</th>\n",
       "      <td>5</td>\n",
       "      <td>PULKIT</td>\n",
       "      <td>7895999999</td>\n",
       "      <td>LUCKNOW</td>\n",
       "      <td>M</td>\n",
       "      <td>25</td>\n",
       "      <td>30500</td>\n",
       "      <td>2021-09-16</td>\n",
       "      <td>5</td>\n",
       "      <td>2</td>\n",
       "    </tr>\n",
       "  </tbody>\n",
       "</table>\n",
       "</div>"
      ],
      "text/plain": [
       "   CUS_ID CUS_NAME   CUS_PHONE CUS_CITY CUS_GENDER  ORD_ID  ORD_AMOUNT  \\\n",
       "0       1   AAKASH  9999999999    DELHI          M      26        2000   \n",
       "1       2     AMAN  9785463215    NOIDA          M      50        2000   \n",
       "2       3     NEHA  9999999998   MUMBAI          F      20        1500   \n",
       "3       4    MEGHA  9994562399  KOLKATA          F      30        3500   \n",
       "4       5   PULKIT  7895999999  LUCKNOW          M      25       30500   \n",
       "\n",
       "     ORD_DATE  CUS_ID  PROD_ID  \n",
       "0  2021-10-05       1        1  \n",
       "1  2021-10-06       2        1  \n",
       "2  2021-10-12       3        5  \n",
       "3  2021-08-16       4        3  \n",
       "4  2021-09-16       5        2  "
      ]
     },
     "execution_count": 19,
     "metadata": {},
     "output_type": "execute_result"
    }
   ],
   "source": [
    "Query11 = \"\"\"select * from customer left outer join `orders` on \n",
    "            customer.CUS_ID = `orders`.CUS_ID;\"\"\"\n",
    "cursorObject.execute(Query11)\n",
    "output = cursorObject.fetchall()\n",
    "\n",
    "output_df = pd.DataFrame(output,columns = ['CUS_ID','CUS_NAME','CUS_PHONE',\n",
    "                                           'CUS_CITY','CUS_GENDER','ORD_ID',\n",
    "                                           'ORD_AMOUNT','ORD_DATE','CUS_ID','PROD_ID'])\n",
    "output_df"
   ]
  }
 ],
 "metadata": {
  "kernelspec": {
   "display_name": "Python 3 (ipykernel)",
   "language": "python",
   "name": "python3"
  },
  "language_info": {
   "codemirror_mode": {
    "name": "ipython",
    "version": 3
   },
   "file_extension": ".py",
   "mimetype": "text/x-python",
   "name": "python",
   "nbconvert_exporter": "python",
   "pygments_lexer": "ipython3",
   "version": "3.9.12"
  }
 },
 "nbformat": 4,
 "nbformat_minor": 5
}
